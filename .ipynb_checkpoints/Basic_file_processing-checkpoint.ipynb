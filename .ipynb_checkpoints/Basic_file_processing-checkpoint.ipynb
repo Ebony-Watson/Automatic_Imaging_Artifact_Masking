{
 "cells": [
  {
   "cell_type": "markdown",
   "id": "4b7f421a-9987-4563-b617-a58aaf1cdbef",
   "metadata": {},
   "source": [
    "### Data Splitting"
   ]
  },
  {
   "cell_type": "code",
   "execution_count": null,
   "id": "da4e7b5a-729e-4d02-bf18-de56926bc436",
   "metadata": {},
   "outputs": [],
   "source": [
    "import numpy as np\n",
    "import os\n",
    "import random\n",
    "import shutil\n",
    "\n",
    "source_path = 'D:/Chapter 5/Re-run/Artifact_Classifier/train/artifact/'\n",
    "dest_path = 'D:/Chapter 5/Re-run/Artifact_Classifier/test/artifact/'\n",
    "\n",
    "files_list = []\n",
    "\n",
    "for root, dirs, files in os.walk(source_path):\n",
    "    for file in files:\n",
    "        if file.endswith(\".tiff\"):\n",
    "            files_list.append(os.path.join(root, file))\n",
    "\n",
    "filesToCopy = random.sample(files_list,np.round(len(files_list)*0.2).astype('int'))\n",
    "\n",
    "if os.path.isdir(dest_path) == False:\n",
    "        os.makedirs(dest_path)\n",
    "\n",
    "for file in filesToCopy:\n",
    "    shutil.move(file, dest_path)"
   ]
  },
  {
   "cell_type": "code",
   "execution_count": null,
   "id": "5e52b019-42ad-45db-95bd-37a87b4221cc",
   "metadata": {
    "tags": []
   },
   "outputs": [],
   "source": []
  },
  {
   "cell_type": "code",
   "execution_count": null,
   "id": "81157790-9a3a-4e08-9c85-a182c10e2765",
   "metadata": {
    "tags": []
   },
   "outputs": [],
   "source": [
    "import os\n",
    "import numpy as np\n",
    "import shutil\n",
    "\n",
    "sourcePath = 'R:/SENSTOR20-Q2053/Temp_Data/Chapter 5/dataset/Set_576/Test/'\n",
    "dest_path = 'D:/Chapter 5/Re-run/artifact_ims/'\n",
    "\n",
    "filesToCopy = to_move[1:]\n",
    "\n",
    "if os.path.isdir(dest_path) == False:\n",
    "        os.makedirs(dest_path)\n",
    "\n",
    "for file in filesToCopy:\n",
    "    shutil.copy(os.path.join(sourcePath, file), dest_path)"
   ]
  }
 ],
 "metadata": {
  "kernelspec": {
   "display_name": "FiltModel",
   "language": "python",
   "name": "filtmodel"
  },
  "language_info": {
   "codemirror_mode": {
    "name": "ipython",
    "version": 3
   },
   "file_extension": ".py",
   "mimetype": "text/x-python",
   "name": "python",
   "nbconvert_exporter": "python",
   "pygments_lexer": "ipython3",
   "version": "3.9.15"
  }
 },
 "nbformat": 4,
 "nbformat_minor": 5
}
