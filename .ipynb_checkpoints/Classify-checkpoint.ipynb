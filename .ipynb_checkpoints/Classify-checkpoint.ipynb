{
 "cells": [
  {
   "cell_type": "markdown",
   "id": "71a75a6b-5c5b-4c24-8916-5a4168336c88",
   "metadata": {},
   "source": [
    "# Generate data subset for Score-CAM/UNET"
   ]
  },
  {
   "cell_type": "code",
   "execution_count": 13,
   "id": "51648f6e-b2dd-4982-8c6a-e48695a1609d",
   "metadata": {},
   "outputs": [],
   "source": [
    "import os\n",
    "import shutil\n",
    "import numpy as np\n",
    "from utils.resnet_utils import DataGenerator_Pred,build_ResNet"
   ]
  },
  {
   "cell_type": "code",
   "execution_count": 5,
   "id": "b54b7723-8a5e-4e9e-8933-77ca45ff0711",
   "metadata": {},
   "outputs": [],
   "source": [
    "data_dir = 'D:/Chapter 5/Re-run/Artifact_Classifier/dirty/'\n",
    "\n",
    "name = '576_16bit_081123-test_tiff_utilsdebug'\n",
    "\n",
    "params = {'dim': (576,576),\n",
    "          'batch_size': 1,\n",
    "          'n_channels': 3,\n",
    "          'shuffle': False,\n",
    "          'PATH':data_dir}"
   ]
  },
  {
   "cell_type": "code",
   "execution_count": 6,
   "id": "10fc3ea6-a8e6-493e-ae24-4331826b4f96",
   "metadata": {},
   "outputs": [],
   "source": [
    "images=np.array(os.listdir(data_dir))\n",
    "partition={'data':images}\n",
    "data_generator = DataGenerator_Pred(partition['data'], **params)"
   ]
  },
  {
   "cell_type": "code",
   "execution_count": 7,
   "id": "63f999e6-4a2a-48b3-a3fa-b22aeb402830",
   "metadata": {},
   "outputs": [
    {
     "name": "stdout",
     "output_type": "stream",
     "text": [
      "1329/1329 [==============================] - 33s 23ms/step\n"
     ]
    }
   ],
   "source": [
    "model = build_ResNet()\n",
    "model.load_weights(f'./resnet_weight_{name}.h5') \n",
    "\n",
    "pred = model.predict(data_generator)\n",
    "pred_bool = (pred>0.5).astype('int32')"
   ]
  },
  {
   "cell_type": "code",
   "execution_count": 9,
   "id": "0a06cd0f-9ea7-4557-89b1-97549c294e7c",
   "metadata": {},
   "outputs": [],
   "source": [
    "dirty = []\n",
    "clean = []\n",
    "for im, pred_class in zip(images, pred_bool):\n",
    "    if pred_class[1] == 1:\n",
    "        dirty.append(im)\n",
    "    else:\n",
    "        clean.append(im)    "
   ]
  },
  {
   "cell_type": "code",
   "execution_count": 10,
   "id": "d5e42d21-34f5-4eb8-9317-656ab1b7a55e",
   "metadata": {},
   "outputs": [
    {
     "name": "stdout",
     "output_type": "stream",
     "text": [
      "8 1321\n"
     ]
    }
   ],
   "source": [
    "print(len(clean),len(dirty))"
   ]
  },
  {
   "cell_type": "code",
   "execution_count": 11,
   "id": "ecf6f778-3909-4cd7-b7c9-885353e7f0a2",
   "metadata": {
    "tags": []
   },
   "outputs": [],
   "source": [
    "sourcePath = data_dir\n",
    "dest_path = 'D:/Chapter 5/Re-run/Artifact_Classifier/classified_dirty/'"
   ]
  },
  {
   "cell_type": "code",
   "execution_count": 14,
   "id": "bde011da-3d00-4f24-8e3d-3b668df02738",
   "metadata": {
    "tags": []
   },
   "outputs": [],
   "source": [
    "filesToCopy = dirty\n",
    "\n",
    "if os.path.isdir(dest_path) == False:\n",
    "        os.makedirs(dest_path)\n",
    "\n",
    "for file in filesToCopy:\n",
    "    shutil.move(os.path.join(sourcePath, file), dest_path)"
   ]
  },
  {
   "cell_type": "code",
   "execution_count": 37,
   "id": "df4d899d-1d5c-4cf8-a692-00630c1b64f1",
   "metadata": {
    "tags": []
   },
   "outputs": [],
   "source": [
    "#dest_path = 'D:/dataset/full_resnet/classed_clean/'"
   ]
  },
  {
   "cell_type": "code",
   "execution_count": null,
   "id": "64272363-08a0-4b9a-98c5-3b6018ca6431",
   "metadata": {
    "tags": []
   },
   "outputs": [],
   "source": [
    "# filesToCopy = clean\n",
    "\n",
    "# if os.path.isdir(dest_path) == False:\n",
    "#         os.makedirs(dest_path)\n",
    "\n",
    "# for file in filesToCopy:\n",
    "#     shutil.move(os.path.join(sourcePath, file), dest_path)"
   ]
  }
 ],
 "metadata": {
  "kernelspec": {
   "display_name": "FiltModel",
   "language": "python",
   "name": "filtmodel"
  },
  "language_info": {
   "codemirror_mode": {
    "name": "ipython",
    "version": 3
   },
   "file_extension": ".py",
   "mimetype": "text/x-python",
   "name": "python",
   "nbconvert_exporter": "python",
   "pygments_lexer": "ipython3",
   "version": "3.9.15"
  }
 },
 "nbformat": 4,
 "nbformat_minor": 5
}
