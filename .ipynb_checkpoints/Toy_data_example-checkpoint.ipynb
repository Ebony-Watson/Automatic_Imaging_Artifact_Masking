{
 "cells": [
  {
   "cell_type": "code",
   "execution_count": null,
   "id": "fae68aa1-5758-43d6-a05e-527d5bca9f7c",
   "metadata": {},
   "outputs": [],
   "source": []
  },
  {
   "cell_type": "markdown",
   "id": "9dc5d653-5fb9-4b2d-a91f-15e8f496ee83",
   "metadata": {},
   "source": [
    "# Use trained artifact classifier to identify images in need of artifact masking"
   ]
  },
  {
   "cell_type": "code",
   "execution_count": null,
   "id": "ea3706ad-adb7-4e89-989e-62927896f0c2",
   "metadata": {},
   "outputs": [],
   "source": []
  },
  {
   "cell_type": "markdown",
   "id": "b10478aa-ba45-49de-82ea-1c1c73931d0c",
   "metadata": {},
   "source": [
    "# Generate masks for images"
   ]
  },
  {
   "cell_type": "code",
   "execution_count": null,
   "id": "2b4e4211-8a1d-4d96-9c18-a1a94b9967af",
   "metadata": {},
   "outputs": [],
   "source": []
  }
 ],
 "metadata": {
  "kernelspec": {
   "display_name": "FiltModel",
   "language": "python",
   "name": "filtmodel"
  },
  "language_info": {
   "codemirror_mode": {
    "name": "ipython",
    "version": 3
   },
   "file_extension": ".py",
   "mimetype": "text/x-python",
   "name": "python",
   "nbconvert_exporter": "python",
   "pygments_lexer": "ipython3",
   "version": "3.9.15"
  }
 },
 "nbformat": 4,
 "nbformat_minor": 5
}
