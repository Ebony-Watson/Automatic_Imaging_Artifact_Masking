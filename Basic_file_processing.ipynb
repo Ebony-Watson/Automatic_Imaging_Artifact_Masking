{
 "cells": [
  {
   "cell_type": "markdown",
   "id": "4b7f421a-9987-4563-b617-a58aaf1cdbef",
   "metadata": {},
   "source": [
    "## Data Splitting"
   ]
  },
  {
   "cell_type": "code",
   "execution_count": 15,
   "id": "da4e7b5a-729e-4d02-bf18-de56926bc436",
   "metadata": {},
   "outputs": [],
   "source": [
    "import numpy as np\n",
    "import os\n",
    "import random\n",
    "import shutil\n",
    "\n",
    "source_path = 'D:/Chapter 5/Re-run/artifact_segmentation/train/masks/'\n",
    "dest_path = 'D:/Chapter 5/Re-run/artifact_segmentation/test/masks/'\n",
    "\n",
    "files_list = []\n",
    "\n",
    "for root, dirs, files in os.walk(source_path):\n",
    "    for file in files:\n",
    "        if file.endswith(\".tiff\"):\n",
    "            files_list.append(os.path.join(root, file))\n",
    "\n",
    "filesToCopy = random.sample(files_list,np.round(len(files_list)*0.2).astype('int'))\n",
    "\n",
    "if os.path.isdir(dest_path) == False:\n",
    "        os.makedirs(dest_path)\n",
    "\n",
    "for file in filesToCopy:\n",
    "    shutil.move(file, dest_path)"
   ]
  },
  {
   "cell_type": "markdown",
   "id": "4884f216-c1ba-40b0-b2f4-d79692bad840",
   "metadata": {
    "tags": []
   },
   "source": [
    "## Data moving"
   ]
  },
  {
   "cell_type": "code",
   "execution_count": null,
   "id": "81157790-9a3a-4e08-9c85-a182c10e2765",
   "metadata": {
    "tags": []
   },
   "outputs": [],
   "source": [
    "import os\n",
    "import numpy as np\n",
    "import shutil\n",
    "\n",
    "sourcePath = 'R:/SENSTOR20-Q2053/Temp_Data/Chapter 5/dataset/Set_576/Test/'\n",
    "dest_path = 'D:/Chapter 5/Re-run/artifact_ims/'\n",
    "\n",
    "filesToCopy = to_move[1:]\n",
    "\n",
    "if os.path.isdir(dest_path) == False:\n",
    "        os.makedirs(dest_path)\n",
    "\n",
    "for file in filesToCopy:\n",
    "    shutil.copy(os.path.join(sourcePath, file), dest_path)"
   ]
  },
  {
   "cell_type": "markdown",
   "id": "c23b41d8-78d1-4a56-9a38-bb080624a7e1",
   "metadata": {},
   "source": [
    "### Matching ims and masks for UNET"
   ]
  },
  {
   "cell_type": "code",
   "execution_count": 24,
   "id": "7fd31ccc-d51a-4a37-8fc0-e3bda327b463",
   "metadata": {
    "tags": []
   },
   "outputs": [],
   "source": [
    "mask_list = os.listdir('D:/Chapter 5/Re-run/artifact_segmentation/test/masks/')\n",
    "images_list = []\n",
    "for filename in mask_list:\n",
    "    n = filename.split('_Mask')[0]\n",
    "    images_list.append(n + '.tiff')    "
   ]
  },
  {
   "cell_type": "code",
   "execution_count": 25,
   "id": "61d4fc6f-0834-4898-a896-6592e4be6fb2",
   "metadata": {},
   "outputs": [],
   "source": [
    "import os\n",
    "import numpy as np\n",
    "import shutil\n",
    "\n",
    "sourcePath = 'D:/Chapter 5/Re-run/artifact_segmentation/artifacts/'\n",
    "dest_path = 'D:/Chapter 5/Re-run/artifact_segmentation/test/images/'\n",
    "\n",
    "filesToCopy = images_list\n",
    "\n",
    "if os.path.isdir(dest_path) == False:\n",
    "        os.makedirs(dest_path)\n",
    "\n",
    "for file in filesToCopy:\n",
    "    shutil.copy(os.path.join(sourcePath, file), dest_path)"
   ]
  },
  {
   "cell_type": "markdown",
   "id": "96d16d70-37d9-4cd4-b8a1-e1156fe5749c",
   "metadata": {},
   "source": [
    "## Renaming files"
   ]
  },
  {
   "cell_type": "code",
   "execution_count": 26,
   "id": "df016816-fb51-4ed4-8651-7fa6cf809012",
   "metadata": {
    "collapsed": true,
    "jupyter": {
     "outputs_hidden": true
    },
    "tags": []
   },
   "outputs": [
    {
     "name": "stdout",
     "output_type": "stream",
     "text": [
      "r02c02f197p01-ch1sk1fk1fl1_Mask.tiff\n",
      "r02c02f86p01-ch1sk1fk1fl1_Mask.tiff\n",
      "r02c02f95p01-ch1sk1fk1fl1_Mask.tiff\n",
      "r02c03f216p01-ch1sk1fk1fl1_Mask.tiff\n",
      "r02c05f177p01-ch1sk1fk1fl1_Mask.tiff\n",
      "r02c05f191p01-ch1sk1fk1fl1_Mask.tiff\n",
      "r02c05f243p01-ch1sk1fk1fl1_Mask.tiff\n",
      "r02c05f81p01-ch1sk1fk1fl1_Mask.tiff\n",
      "r02c06f179p01-ch1sk1fk1fl1_Mask.tiff\n",
      "r02c06f30p01-ch1sk1fk1fl1_Mask.tiff\n",
      "r02c07f241p01-ch1sk1fk1fl1_Mask.tiff\n",
      "r02c09f52p01-ch1sk1fk1fl1_Mask.tiff\n",
      "r02c09f94p01-ch1sk1fk1fl1_Mask.tiff\n",
      "r02c10f157p01-ch1sk1fk1fl1_Mask.tiff\n",
      "r02c11f101p01-ch1sk1fk1fl1_Mask.tiff\n",
      "r02c11f42p01-ch1sk1fk1fl1_Mask.tiff\n",
      "r02c11f76p01-ch1sk1fk1fl1_Mask.tiff\n",
      "r02c11f82p01-ch1sk1fk1fl1_Mask.tiff\n",
      "r02c12f58p01-ch1sk1fk1fl1_Mask.tiff\n",
      "r03c01f105p01-ch1sk1fk1fl1_Mask.tiff\n",
      "r03c01f115p01-ch1sk1fk1fl1_Mask.tiff\n",
      "r03c01f138p01-ch1sk1fk1fl1_Mask.tiff\n",
      "r03c01f59p01-ch1sk1fk1fl1_Mask.tiff\n",
      "r03c03f198p01-ch1sk1fk1fl1_Mask.tiff\n",
      "r03c03f66p01-ch1sk1fk1fl1_Mask.tiff\n",
      "r03c03f83p01-ch1sk1fk1fl1_Mask.tiff\n",
      "r03c04f04p01-ch1sk1fk1fl1_Mask.tiff\n",
      "r03c05f162p01-ch1sk1fk1fl1_Mask.tiff\n",
      "r03c05f172p01-ch1sk1fk1fl1_Mask.tiff\n",
      "r03c06f141p01-ch1sk1fk1fl1_Mask.tiff\n",
      "r03c06f143p01-ch1sk1fk1fl1_Mask.tiff\n",
      "r03c06f147p01-ch1sk1fk1fl1_Mask.tiff\n",
      "r03c06f148p01-ch1sk1fk1fl1_Mask.tiff\n",
      "r03c06f149p01-ch1sk1fk1fl1_Mask.tiff\n",
      "r03c06f152p01-ch1sk1fk1fl1_Mask.tiff\n",
      "r03c06f175p01-ch1sk1fk1fl1_Mask.tiff\n",
      "r03c06f177p01-ch1sk1fk1fl1_Mask.tiff\n",
      "r03c06f179p01-ch1sk1fk1fl1_Mask.tiff\n",
      "r03c06f204p01-ch1sk1fk1fl1_Mask.tiff\n",
      "r03c06f207p01-ch1sk1fk1fl1_Mask.tiff\n",
      "r03c06f232p01-ch1sk1fk1fl1_Mask.tiff\n",
      "r03c06f236p01-ch1sk1fk1fl1_Mask.tiff\n",
      "r03c06f241p01-ch1sk1fk1fl1_Mask.tiff\n",
      "r03c06f249p01-ch1sk1fk1fl1_Mask.tiff\n",
      "r03c06f86p01-ch1sk1fk1fl1_Mask.tiff\n",
      "r03c07f01p01-ch1sk1fk1fl1_Mask.tiff\n",
      "r03c09f131p01-ch1sk1fk1fl1_Mask.tiff\n",
      "r03c11f147p01-ch1sk1fk1fl1_Mask.tiff\n",
      "r03c11f220p01-ch1sk1fk1fl1_Mask.tiff\n",
      "r04c01f37p01-ch1sk1fk1fl1_Mask.tiff\n",
      "r04c02f223p01-ch1sk1fk1fl1_Mask.tiff\n",
      "r04c05f74p01-ch1sk1fk1fl1_Mask.tiff\n",
      "r04c06f11p01-ch1sk1fk1fl1_Mask.tiff\n",
      "r04c09f146p01-ch1sk1fk1fl1_Mask.tiff\n",
      "r04c09f208p01-ch1sk1fk1fl1_Mask.tiff\n",
      "r04c09f59p01-ch1sk1fk1fl1_Mask.tiff\n",
      "r04c10f137p01-ch1sk1fk1fl1_Mask.tiff\n",
      "r04c10f145p01-ch1sk1fk1fl1_Mask.tiff\n",
      "r04c10f208p01-ch1sk1fk1fl1_Mask.tiff\n",
      "r04c11f72p01-ch1sk1fk1fl1_Mask.tiff\n",
      "r04c11f76p01-ch1sk1fk1fl1_Mask.tiff\n",
      "r05c01f94p01-ch1sk1fk1fl1_Mask.tiff\n",
      "r05c05f185p01-ch1sk1fk1fl1_Mask.tiff\n",
      "r05c05f38p01-ch1sk1fk1fl1_Mask.tiff\n",
      "r05c07f57p01-ch1sk1fk1fl1_Mask.tiff\n",
      "r05c09f14p01-ch1sk1fk1fl1_Mask.tiff\n",
      "r05c09f216p01-ch1sk1fk1fl1_Mask.tiff\n",
      "r05c09f227p01-ch1sk1fk1fl1_Mask.tiff\n",
      "r05c09f254p01-ch1sk1fk1fl1_Mask.tiff\n",
      "r05c10f139p01-ch1sk1fk1fl1_Mask.tiff\n",
      "r05c11f29p01-ch1sk1fk1fl1_Mask.tiff\n",
      "r06c01f172p01-ch1sk1fk1fl1_Mask.tiff\n",
      "r06c01f197p01-ch1sk1fk1fl1_Mask.tiff\n",
      "r06c01f80p01-ch1sk1fk1fl1_Mask.tiff\n",
      "r06c02f255p01-ch1sk1fk1fl1_Mask.tiff\n",
      "r06c03f13p01-ch1sk1fk1fl1_Mask.tiff\n",
      "r06c03f57p01-ch1sk1fk1fl1_Mask.tiff\n",
      "r06c05f37p01-ch1sk1fk1fl1_Mask.tiff\n",
      "r06c05f44p01-ch1sk1fk1fl1_Mask.tiff\n",
      "r06c07f252p01-ch1sk1fk1fl1_Mask.tiff\n",
      "r06c09f104p01-ch1sk1fk1fl1_Mask.tiff\n",
      "r06c09f187p01-ch1sk1fk1fl1_Mask.tiff\n",
      "r06c09f243p01-ch1sk1fk1fl1_Mask.tiff\n",
      "r06c09f250p01-ch1sk1fk1fl1_Mask.tiff\n",
      "r06c09f51p01-ch1sk1fk1fl1_Mask.tiff\n",
      "r06c09f58p01-ch1sk1fk1fl1_Mask.tiff\n",
      "r06c10f16p01-ch1sk1fk1fl1_Mask.tiff\n",
      "r06c10f45p01-ch1sk1fk1fl1_Mask.tiff\n",
      "r06c10f49p01-ch1sk1fk1fl1_Mask.tiff\n",
      "r07c01f240p01-ch1sk1fk1fl1_Mask.tiff\n",
      "r07c01f43p01-ch1sk1fk1fl1_Mask.tiff\n",
      "r07c05f163p01-ch1sk1fk1fl1_Mask.tiff\n",
      "r07c07f235p01-ch1sk1fk1fl1_Mask.tiff\n",
      "r07c09f184p01-ch1sk1fk1fl1_Mask.tiff\n",
      "r07c09f229p01-ch1sk1fk1fl1_Mask.tiff\n",
      "r07c09f245p01-ch1sk1fk1fl1_Mask.tiff\n",
      "r07c10f176p01-ch1sk1fk1fl1_Mask.tiff\n",
      "r07c10f240p01-ch1sk1fk1fl1_Mask.tiff\n",
      "r07c10f33p01-ch1sk1fk1fl1_Mask.tiff\n",
      "r07c11f122p01-ch1sk1fk1fl1_Mask.tiff\n"
     ]
    }
   ],
   "source": [
    "dirn = 'D:/Chapter 5/Re-run/artifact_segmentation/unet_eval/masks/'\n",
    "\n",
    "for filename in os.listdir(dirn):\n",
    "    if filename.endswith(\".tif\"):\n",
    "        fov = filename.split('.tif')[0]\n",
    "        newname = fov + '.tiff'\n",
    "        print(newname)\n",
    "        old_file = os.path.join(dirn, filename)\n",
    "        new_file = os.path.join(dirn, newname)\n",
    "\n",
    "        os.rename(old_file, new_file)"
   ]
  }
 ],
 "metadata": {
  "kernelspec": {
   "display_name": "FiltModel",
   "language": "python",
   "name": "filtmodel"
  },
  "language_info": {
   "codemirror_mode": {
    "name": "ipython",
    "version": 3
   },
   "file_extension": ".py",
   "mimetype": "text/x-python",
   "name": "python",
   "nbconvert_exporter": "python",
   "pygments_lexer": "ipython3",
   "version": "3.9.15"
  }
 },
 "nbformat": 4,
 "nbformat_minor": 5
}
