{
 "cells": [
  {
   "cell_type": "code",
   "execution_count": null,
   "id": "fae68aa1-5758-43d6-a05e-527d5bca9f7c",
   "metadata": {},
   "outputs": [],
   "source": [
    "import os\n",
    "import numpy as np\n",
    "import shutil\n",
    "import cv2\n",
    "import matplotlib\n",
    "import matplotlib.pyplot as plt"
   ]
  },
  {
   "cell_type": "markdown",
   "id": "855ac81c-2b03-48e1-8890-bcad67aff5ff",
   "metadata": {},
   "source": [
    "# Prepare data"
   ]
  },
  {
   "cell_type": "code",
   "execution_count": null,
   "id": "1d911b2e-3582-4507-9ed8-70d762ab1928",
   "metadata": {},
   "outputs": [],
   "source": [
    "for file in os.listdir('D:/Chapter 5/Re-run/toy_dataset/images/'):\n",
    "    image_path = os.path.join('D:/Chapter 5/Re-run/toy_dataset/images/',file) # dir1, \n",
    "    orig_image = cv2.imread(image_path, -1)\n",
    "    #print('original')\n",
    "    #plt.imshow(OGimage,cmap='gray')\n",
    "    #plt.show()\n",
    "    #print(OGimage)\n",
    "    \n",
    "    #scale_percent = 80 # percent of original size\n",
    "    #width = int(OGimage.shape[1] * scale_percent / 100)\n",
    "    #height = int(OGimage.shape[0] * scale_percent / 100)\n",
    "    width = 576\n",
    "    height = 576\n",
    "    dim = (width, height)\n",
    "\n",
    "    area_image = cv2.resize(OGimage, dim,interpolation = cv2.INTER_AREA)\n",
    "    #print('resized: Area')\n",
    "    plt.imshow(area_image,cmap='gray')\n",
    "    plt.show()\n",
    "\n",
    "    #image8 = skimage.util.img_as_ubyte(area_image)\n",
    "    #print(image8)\n",
    "    #print('skimage')\n",
    "    #plt.imshow(image8,cmap='gray')\n",
    "    #plt.show()\n",
    "    #cv2.imwrite(os.path.join(directory, dir1 + '_prepped', f'{file}_FS_8bit.png'), image8)\n",
    "    cv2.imwrite(f'D:/Chapter 5/Re-run/toy_dataset/576/{file}_576_16bit.png', area_image) # dir1 + "
   ]
  },
  {
   "cell_type": "code",
   "execution_count": null,
   "id": "82105f96-d701-4de4-8118-dbc31d19e321",
   "metadata": {},
   "outputs": [],
   "source": [
    "datadir_name = 'D:/Chapter 5/Re-run/toy_dataset/576/'\n",
    "\n",
    "# label_to_class = {\n",
    "#     'clean':0,\n",
    "#     'dirty':1\n",
    "# }\n",
    "\n",
    "# class_to_label = {v: k for k, v in label_to_class.items()}\n",
    "\n",
    "params = {'dim': (576,576),\n",
    "          'batch_size': 1,\n",
    "          'n_channels': 3,\n",
    "          'shuffle': False,\n",
    "          'PATH':datadir_name}"
   ]
  },
  {
   "cell_type": "code",
   "execution_count": null,
   "id": "97be9d3f-8d27-4e09-adbc-d73f1973c297",
   "metadata": {},
   "outputs": [],
   "source": [
    "data_dir = 'D:/Chapter 5/Re-run/toy_dataset/576/'\n",
    "\n",
    "name = '576_16bit_081123-test_tiff_utilsdebug'\n",
    "\n",
    "params = {'dim': (576,576),\n",
    "          'batch_size': 1,\n",
    "          'n_channels': 3,\n",
    "          'shuffle': False,\n",
    "          'PATH':data_dir}"
   ]
  },
  {
   "cell_type": "code",
   "execution_count": null,
   "id": "79f91c3c-4665-4f52-986e-d5819ed00e5e",
   "metadata": {},
   "outputs": [],
   "source": [
    "Images = []\n",
    "\n",
    "for img_name in os.listdir(datadir_name):\n",
    "    Images.append(img_name)\n",
    "Images =  np.array(Images)\n",
    "\n",
    "partition={'data':Images}\n",
    "\n",
    "data_generator = ResNet_DataGenerator(partition['data'], **params)"
   ]
  },
  {
   "cell_type": "markdown",
   "id": "9dc5d653-5fb9-4b2d-a91f-15e8f496ee83",
   "metadata": {},
   "source": [
    "# Use trained artifact classifier to identify images in need of artifact masking"
   ]
  },
  {
   "cell_type": "code",
   "execution_count": null,
   "id": "ea3706ad-adb7-4e89-989e-62927896f0c2",
   "metadata": {},
   "outputs": [],
   "source": []
  },
  {
   "cell_type": "markdown",
   "id": "b10478aa-ba45-49de-82ea-1c1c73931d0c",
   "metadata": {},
   "source": [
    "# Generate masks for images"
   ]
  },
  {
   "cell_type": "code",
   "execution_count": null,
   "id": "2b4e4211-8a1d-4d96-9c18-a1a94b9967af",
   "metadata": {},
   "outputs": [],
   "source": []
  }
 ],
 "metadata": {
  "kernelspec": {
   "display_name": "FiltModel",
   "language": "python",
   "name": "filtmodel"
  },
  "language_info": {
   "codemirror_mode": {
    "name": "ipython",
    "version": 3
   },
   "file_extension": ".py",
   "mimetype": "text/x-python",
   "name": "python",
   "nbconvert_exporter": "python",
   "pygments_lexer": "ipython3",
   "version": "3.9.15"
  }
 },
 "nbformat": 4,
 "nbformat_minor": 5
}
